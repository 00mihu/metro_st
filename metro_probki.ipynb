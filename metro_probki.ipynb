{
 "cells": [
  {
   "cell_type": "code",
   "execution_count": 74,
   "id": "f90514e3",
   "metadata": {},
   "outputs": [],
   "source": [
    "import math\n",
    "import geopandas as gpd\n",
    "import numpy as np\n",
    "import pandas as pd\n",
    "from shapely.geometry import MultiPolygon\n",
    "\n",
    "import folium\n",
    "from folium import Choropleth, Marker\n",
    "from folium.plugins import HeatMap, MarkerCluster"
   ]
  },
  {
   "cell_type": "code",
   "execution_count": 60,
   "id": "3bf1ae96",
   "metadata": {
    "scrolled": true
   },
   "outputs": [],
   "source": [
    "# Tworzenie listy z danymi stacji metra\n",
    "encodings = ['utf-8', 'latin1', 'iso-8859-1', 'cp1252']\n",
    "\n",
    "data = pd.read_csv(\"cph_metro_stations.csv\", sep=\"\\t\", encoding=enc)\n",
    "#data = pd.read_csv(\"cph_metro_stations.csv\", sep=\"\\t\")\n",
    "data.head()\n",
    "\n",
    "   # Tworzenie DataFrame\n",
    "#df = pd.DataFrame(data)\n",
    "\n",
    "   # Tworzenie kolumny geometrycznej\n",
    "  \n",
    "    #geometry = [Point(xy) for xy in zip(df[\"Dlugosc\"], df[\"Szerokosc\"])]\n",
    "#   geo_df = gpd.GeoDataFrame(df, geometry=geometry)\n",
    "\n",
    "   # Definiowanie układu współrzędnych (WGS 84)\n",
    "#   geo_df.set_crs(epsg=4326, inplace=True)\n",
    "\n",
    "   # Wyświetlanie pierwszych kilku wierszy GeoDataFrame\n",
    "#   print(geo_df.head())\n",
    "\n",
    "   # Zapis GeoDataFrame do pliku shapefile\n",
    "#   geo_df.to_file(\"kopenhaga_metro.shp\")"
   ]
  },
  {
   "cell_type": "code",
   "execution_count": 11,
   "id": "1998fb8f",
   "metadata": {},
   "outputs": [
    {
     "data": {
      "text/plain": [
       "'C:\\\\Users\\\\48739'"
      ]
     },
     "execution_count": 11,
     "metadata": {},
     "output_type": "execute_result"
    }
   ],
   "source": [
    "pwd"
   ]
  },
  {
   "cell_type": "code",
   "execution_count": 12,
   "id": "612e13bc",
   "metadata": {},
   "outputs": [
    {
     "name": "stdout",
     "output_type": "stream",
     "text": [
      "C:\\Users\\48739\\Downloads\n"
     ]
    }
   ],
   "source": [
    "cd Downloads"
   ]
  },
  {
   "cell_type": "code",
   "execution_count": 87,
   "id": "d9a2d57b",
   "metadata": {},
   "outputs": [],
   "source": [
    "import pandas as pd\n",
    "\n",
    "# Attempt to read the file with different encodings\n",
    "encodings = ['utf-8', 'latin1', 'iso-8859-1', 'cp1252']\n",
    "\n",
    "#for enc in encodings:\n",
    "#    try:\n",
    "#        metro = pd.read_csv(\"metro_cph_stations_kropka.csv\", sep=\"\\t\", encoding=enc)\n",
    "#        print(f\"Successfully read the file with encoding: {enc}\")\n",
    "#        print(data.head())\n",
    "#        break  # Exit the loop if successful\n",
    "#    except UnicodeDecodeError as e:\n",
    "#        print(f\"Failed with encoding {enc}: {e}\")"
   ]
  },
  {
   "cell_type": "code",
   "execution_count": 88,
   "id": "3d7cefbe",
   "metadata": {},
   "outputs": [
    {
     "data": {
      "text/plain": [
       "Index(['Station; lat_sz ;lon_dl'], dtype='object')"
      ]
     },
     "execution_count": 88,
     "metadata": {},
     "output_type": "execute_result"
    }
   ],
   "source": [
    "df = pd.DataFrame(metro)\n",
    "metro = pd.read_csv(\"metro_cph_stations_kropka.csv\", sep=\"\\t\", encoding=enc)\n",
    "#df.columns\n",
    "metro.columns"
   ]
  },
  {
   "cell_type": "code",
   "execution_count": 89,
   "id": "2d0f89a6",
   "metadata": {},
   "outputs": [
    {
     "ename": "TypeError",
     "evalue": "'DataFrame' object is not callable",
     "output_type": "error",
     "traceback": [
      "\u001b[1;31m---------------------------------------------------------------------------\u001b[0m",
      "\u001b[1;31mTypeError\u001b[0m                                 Traceback (most recent call last)",
      "Cell \u001b[1;32mIn[89], line 3\u001b[0m\n\u001b[0;32m      1\u001b[0m m_1 \u001b[38;5;241m=\u001b[39m folium\u001b[38;5;241m.\u001b[39mMap(location\u001b[38;5;241m=\u001b[39m[\u001b[38;5;241m55.67\u001b[39m, \u001b[38;5;241m12.56\u001b[39m], zoom_start\u001b[38;5;241m=\u001b[39m\u001b[38;5;241m11\u001b[39m) \n\u001b[1;32m----> 3\u001b[0m HeatMap(metro([[\u001b[38;5;124m'\u001b[39m\u001b[38;5;124mlat_sz\u001b[39m\u001b[38;5;124m'\u001b[39m, \u001b[38;5;124m'\u001b[39m\u001b[38;5;124mlon_dl\u001b[39m\u001b[38;5;124m'\u001b[39m]], radius\u001b[38;5;241m=\u001b[39m\u001b[38;5;241m9\u001b[39m))\n\u001b[0;32m      4\u001b[0m \u001b[38;5;66;03m#.add_to(m_1)\u001b[39;00m\n\u001b[0;32m      5\u001b[0m HeatMap()\n",
      "\u001b[1;31mTypeError\u001b[0m: 'DataFrame' object is not callable"
     ]
    }
   ],
   "source": [
    "m_1 = folium.Map(location=[55.67, 12.56], zoom_start=11) \n",
    "\n",
    "HeatMap(metro([['lat_sz', 'lon_dl']], radius=9))\n",
    "#.add_to(m_1)\n",
    "HeatMap()\n",
    "\n",
    "m_1\n",
    "#embed_map(m_1)"
   ]
  },
  {
   "cell_type": "code",
   "execution_count": 105,
   "id": "9eaeb733",
   "metadata": {},
   "outputs": [
    {
     "ename": "KeyError",
     "evalue": "'lat_sz'",
     "output_type": "error",
     "traceback": [
      "\u001b[1;31m---------------------------------------------------------------------------\u001b[0m",
      "\u001b[1;31mKeyError\u001b[0m                                  Traceback (most recent call last)",
      "File \u001b[1;32m~\\anaconda3\\Lib\\site-packages\\pandas\\core\\indexes\\base.py:3805\u001b[0m, in \u001b[0;36mIndex.get_loc\u001b[1;34m(self, key)\u001b[0m\n\u001b[0;32m   3804\u001b[0m \u001b[38;5;28;01mtry\u001b[39;00m:\n\u001b[1;32m-> 3805\u001b[0m     \u001b[38;5;28;01mreturn\u001b[39;00m \u001b[38;5;28mself\u001b[39m\u001b[38;5;241m.\u001b[39m_engine\u001b[38;5;241m.\u001b[39mget_loc(casted_key)\n\u001b[0;32m   3806\u001b[0m \u001b[38;5;28;01mexcept\u001b[39;00m \u001b[38;5;167;01mKeyError\u001b[39;00m \u001b[38;5;28;01mas\u001b[39;00m err:\n",
      "File \u001b[1;32mindex.pyx:167\u001b[0m, in \u001b[0;36mpandas._libs.index.IndexEngine.get_loc\u001b[1;34m()\u001b[0m\n",
      "File \u001b[1;32mindex.pyx:196\u001b[0m, in \u001b[0;36mpandas._libs.index.IndexEngine.get_loc\u001b[1;34m()\u001b[0m\n",
      "File \u001b[1;32mpandas\\\\_libs\\\\hashtable_class_helper.pxi:7081\u001b[0m, in \u001b[0;36mpandas._libs.hashtable.PyObjectHashTable.get_item\u001b[1;34m()\u001b[0m\n",
      "File \u001b[1;32mpandas\\\\_libs\\\\hashtable_class_helper.pxi:7089\u001b[0m, in \u001b[0;36mpandas._libs.hashtable.PyObjectHashTable.get_item\u001b[1;34m()\u001b[0m\n",
      "\u001b[1;31mKeyError\u001b[0m: 'lat_sz'",
      "\nThe above exception was the direct cause of the following exception:\n",
      "\u001b[1;31mKeyError\u001b[0m                                  Traceback (most recent call last)",
      "Cell \u001b[1;32mIn[105], line 13\u001b[0m\n\u001b[0;32m     11\u001b[0m \u001b[38;5;66;03m#m_2 = folium.Map(location=[40.7, -74], zoom_start=11) \u001b[39;00m\n\u001b[0;32m     12\u001b[0m \u001b[38;5;28;01mfor\u001b[39;00m idx, row \u001b[38;5;129;01min\u001b[39;00m metro\u001b[38;5;241m.\u001b[39miterrows():\n\u001b[1;32m---> 13\u001b[0m     Marker([row[\u001b[38;5;124m'\u001b[39m\u001b[38;5;124mlat_sz\u001b[39m\u001b[38;5;124m'\u001b[39m], row[\u001b[38;5;124m'\u001b[39m\u001b[38;5;124m lon_dl \u001b[39m\u001b[38;5;124m'\u001b[39m]], popup\u001b[38;5;241m=\u001b[39mrow[\u001b[38;5;124m'\u001b[39m\u001b[38;5;124mStation\u001b[39m\u001b[38;5;124m'\u001b[39m])\u001b[38;5;241m.\u001b[39madd_to(m_1)\n\u001b[0;32m     15\u001b[0m \u001b[38;5;66;03m# Ensure the data is in the correct format for HeatMap\u001b[39;00m\n\u001b[0;32m     16\u001b[0m \u001b[38;5;66;03m#heat_data = data[['lat_sz', 'lon_dl']].values.tolist()\u001b[39;00m\n\u001b[0;32m     17\u001b[0m \n\u001b[1;32m   (...)\u001b[0m\n\u001b[0;32m     21\u001b[0m \n\u001b[0;32m     22\u001b[0m \u001b[38;5;66;03m# Display the map (works in Jupyter Notebook)\u001b[39;00m\n\u001b[0;32m     23\u001b[0m m_1\n",
      "File \u001b[1;32m~\\anaconda3\\Lib\\site-packages\\pandas\\core\\series.py:1121\u001b[0m, in \u001b[0;36mSeries.__getitem__\u001b[1;34m(self, key)\u001b[0m\n\u001b[0;32m   1118\u001b[0m     \u001b[38;5;28;01mreturn\u001b[39;00m \u001b[38;5;28mself\u001b[39m\u001b[38;5;241m.\u001b[39m_values[key]\n\u001b[0;32m   1120\u001b[0m \u001b[38;5;28;01melif\u001b[39;00m key_is_scalar:\n\u001b[1;32m-> 1121\u001b[0m     \u001b[38;5;28;01mreturn\u001b[39;00m \u001b[38;5;28mself\u001b[39m\u001b[38;5;241m.\u001b[39m_get_value(key)\n\u001b[0;32m   1123\u001b[0m \u001b[38;5;66;03m# Convert generator to list before going through hashable part\u001b[39;00m\n\u001b[0;32m   1124\u001b[0m \u001b[38;5;66;03m# (We will iterate through the generator there to check for slices)\u001b[39;00m\n\u001b[0;32m   1125\u001b[0m \u001b[38;5;28;01mif\u001b[39;00m is_iterator(key):\n",
      "File \u001b[1;32m~\\anaconda3\\Lib\\site-packages\\pandas\\core\\series.py:1237\u001b[0m, in \u001b[0;36mSeries._get_value\u001b[1;34m(self, label, takeable)\u001b[0m\n\u001b[0;32m   1234\u001b[0m     \u001b[38;5;28;01mreturn\u001b[39;00m \u001b[38;5;28mself\u001b[39m\u001b[38;5;241m.\u001b[39m_values[label]\n\u001b[0;32m   1236\u001b[0m \u001b[38;5;66;03m# Similar to Index.get_value, but we do not fall back to positional\u001b[39;00m\n\u001b[1;32m-> 1237\u001b[0m loc \u001b[38;5;241m=\u001b[39m \u001b[38;5;28mself\u001b[39m\u001b[38;5;241m.\u001b[39mindex\u001b[38;5;241m.\u001b[39mget_loc(label)\n\u001b[0;32m   1239\u001b[0m \u001b[38;5;28;01mif\u001b[39;00m is_integer(loc):\n\u001b[0;32m   1240\u001b[0m     \u001b[38;5;28;01mreturn\u001b[39;00m \u001b[38;5;28mself\u001b[39m\u001b[38;5;241m.\u001b[39m_values[loc]\n",
      "File \u001b[1;32m~\\anaconda3\\Lib\\site-packages\\pandas\\core\\indexes\\base.py:3812\u001b[0m, in \u001b[0;36mIndex.get_loc\u001b[1;34m(self, key)\u001b[0m\n\u001b[0;32m   3807\u001b[0m     \u001b[38;5;28;01mif\u001b[39;00m \u001b[38;5;28misinstance\u001b[39m(casted_key, \u001b[38;5;28mslice\u001b[39m) \u001b[38;5;129;01mor\u001b[39;00m (\n\u001b[0;32m   3808\u001b[0m         \u001b[38;5;28misinstance\u001b[39m(casted_key, abc\u001b[38;5;241m.\u001b[39mIterable)\n\u001b[0;32m   3809\u001b[0m         \u001b[38;5;129;01mand\u001b[39;00m \u001b[38;5;28many\u001b[39m(\u001b[38;5;28misinstance\u001b[39m(x, \u001b[38;5;28mslice\u001b[39m) \u001b[38;5;28;01mfor\u001b[39;00m x \u001b[38;5;129;01min\u001b[39;00m casted_key)\n\u001b[0;32m   3810\u001b[0m     ):\n\u001b[0;32m   3811\u001b[0m         \u001b[38;5;28;01mraise\u001b[39;00m InvalidIndexError(key)\n\u001b[1;32m-> 3812\u001b[0m     \u001b[38;5;28;01mraise\u001b[39;00m \u001b[38;5;167;01mKeyError\u001b[39;00m(key) \u001b[38;5;28;01mfrom\u001b[39;00m \u001b[38;5;21;01merr\u001b[39;00m\n\u001b[0;32m   3813\u001b[0m \u001b[38;5;28;01mexcept\u001b[39;00m \u001b[38;5;167;01mTypeError\u001b[39;00m:\n\u001b[0;32m   3814\u001b[0m     \u001b[38;5;66;03m# If we have a listlike key, _check_indexing_error will raise\u001b[39;00m\n\u001b[0;32m   3815\u001b[0m     \u001b[38;5;66;03m#  InvalidIndexError. Otherwise we fall through and re-raise\u001b[39;00m\n\u001b[0;32m   3816\u001b[0m     \u001b[38;5;66;03m#  the TypeError.\u001b[39;00m\n\u001b[0;32m   3817\u001b[0m     \u001b[38;5;28mself\u001b[39m\u001b[38;5;241m.\u001b[39m_check_indexing_error(key)\n",
      "\u001b[1;31mKeyError\u001b[0m: 'lat_sz'"
     ]
    }
   ],
   "source": [
    "import folium\n",
    "from folium.plugins import HeatMap\n",
    "\n",
    "def embed_map(m, file_name):\n",
    "    from IPython.display import IFrame\n",
    "    m.save(file_name)\n",
    "    return IFrame(file_name, width='100%', height='500px')\n",
    "\n",
    "# Create a map centered around Copenhagen\n",
    "m_1 = folium.Map(location=[55.67, 12.56], zoom_start=11)\n",
    "#m_2 = folium.Map(location=[40.7, -74], zoom_start=11) \n",
    "for idx, row in metro.iterrows():\n",
    "    Marker([row['lat_sz'], row[' lon_dl ']], popup=row['Station']).add_to(m_1)\n",
    "\n",
    "# Ensure the data is in the correct format for HeatMap\n",
    "#heat_data = data[['lat_sz', 'lon_dl']].values.tolist()\n",
    "\n",
    "# Add the HeatMap layer\n",
    "\n",
    "####HeatMap(heat_data, radius=9).add_to(m_1)\n",
    "\n",
    "# Display the map (works in Jupyter Notebook)\n",
    "m_1"
   ]
  },
  {
   "cell_type": "code",
   "execution_count": 91,
   "id": "336ffb64",
   "metadata": {},
   "outputs": [
    {
     "name": "stdout",
     "output_type": "stream",
     "text": [
      "Index(['Station; lat_sz ;lon_dl'], dtype='object')\n"
     ]
    }
   ],
   "source": [
    "print(data.columns)"
   ]
  },
  {
   "cell_type": "code",
   "execution_count": 92,
   "id": "0108db33",
   "metadata": {},
   "outputs": [
    {
     "name": "stdout",
     "output_type": "stream",
     "text": [
      "Index(['Station; lat_sz ;lon_dl'], dtype='object')\n"
     ]
    }
   ],
   "source": [
    "print(metro.columns)"
   ]
  },
  {
   "cell_type": "code",
   "execution_count": 93,
   "id": "08bf7c02",
   "metadata": {},
   "outputs": [
    {
     "ename": "TypeError",
     "evalue": "'DataFrame' object is not callable",
     "output_type": "error",
     "traceback": [
      "\u001b[1;31m---------------------------------------------------------------------------\u001b[0m",
      "\u001b[1;31mTypeError\u001b[0m                                 Traceback (most recent call last)",
      "Cell \u001b[1;32mIn[93], line 8\u001b[0m\n\u001b[0;32m      2\u001b[0m \u001b[38;5;28;01mfrom\u001b[39;00m \u001b[38;5;21;01mfolium\u001b[39;00m\u001b[38;5;21;01m.\u001b[39;00m\u001b[38;5;21;01mplugins\u001b[39;00m \u001b[38;5;28;01mimport\u001b[39;00m HeatMap\n\u001b[0;32m      4\u001b[0m \u001b[38;5;66;03m# Create a map centered around Copenhagen\u001b[39;00m\n\u001b[0;32m      5\u001b[0m \u001b[38;5;66;03m#m_1 = folium.Map(location=[55.67, 12.56], zoom_start=11)\u001b[39;00m\n\u001b[0;32m      6\u001b[0m \n\u001b[0;32m      7\u001b[0m \u001b[38;5;66;03m# Ensure the data is in the correct format for HeatMap\u001b[39;00m\n\u001b[1;32m----> 8\u001b[0m heat_data \u001b[38;5;241m=\u001b[39m df([\u001b[38;5;124m'\u001b[39m\u001b[38;5;124mStation, lat_sz ;lon_dl\u001b[39m\u001b[38;5;124m'\u001b[39m], dtype\u001b[38;5;241m=\u001b[39m\u001b[38;5;124m'\u001b[39m\u001b[38;5;124mobject\u001b[39m\u001b[38;5;124m'\u001b[39m)\u001b[38;5;241m.\u001b[39mvalues\u001b[38;5;241m.\u001b[39mtolist()\n\u001b[0;32m     10\u001b[0m \u001b[38;5;66;03m#[['Szerokosc', 'Dlugosc']].values.tolist()\u001b[39;00m\n\u001b[0;32m     11\u001b[0m \n\u001b[0;32m     12\u001b[0m \u001b[38;5;66;03m# Add the HeatMap layer\u001b[39;00m\n\u001b[0;32m     13\u001b[0m HeatMap(heat_data, radius\u001b[38;5;241m=\u001b[39m\u001b[38;5;241m9\u001b[39m)\u001b[38;5;241m.\u001b[39madd_to(m_1)\n",
      "\u001b[1;31mTypeError\u001b[0m: 'DataFrame' object is not callable"
     ]
    }
   ],
   "source": [
    "import folium\n",
    "from folium.plugins import HeatMap\n",
    "\n",
    "# Create a map centered around Copenhagen\n",
    "#m_1 = folium.Map(location=[55.67, 12.56], zoom_start=11)\n",
    "\n",
    "# Ensure the data is in the correct format for HeatMap\n",
    "heat_data = df(['Station, lat_sz ;lon_dl'], dtype='object').values.tolist()\n",
    "\n",
    "#[['Szerokosc', 'Dlugosc']].values.tolist()\n",
    "\n",
    "# Add the HeatMap layer\n",
    "HeatMap(heat_data, radius=9).add_to(m_1)\n",
    "\n",
    "# Display the map (works in Jupyter Notebook)\n",
    "m_1\n"
   ]
  },
  {
   "cell_type": "code",
   "execution_count": null,
   "id": "effe1e66",
   "metadata": {},
   "outputs": [],
   "source": []
  },
  {
   "cell_type": "code",
   "execution_count": null,
   "id": "81b5ee42",
   "metadata": {},
   "outputs": [],
   "source": []
  }
 ],
 "metadata": {
  "kernelspec": {
   "display_name": "Python 3 (ipykernel)",
   "language": "python",
   "name": "python3"
  },
  "language_info": {
   "codemirror_mode": {
    "name": "ipython",
    "version": 3
   },
   "file_extension": ".py",
   "mimetype": "text/x-python",
   "name": "python",
   "nbconvert_exporter": "python",
   "pygments_lexer": "ipython3",
   "version": "3.11.7"
  }
 },
 "nbformat": 4,
 "nbformat_minor": 5
}
